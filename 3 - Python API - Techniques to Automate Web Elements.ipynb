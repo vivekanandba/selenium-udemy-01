{
 "cells": [
  {
   "cell_type": "markdown",
   "metadata": {},
   "source": [
    "## Web applications to practice selenium Automation"
   ]
  },
  {
   "cell_type": "markdown",
   "metadata": {},
   "source": [
    "A website with angular , with all web elements, html & php"
   ]
  },
  {
   "cell_type": "markdown",
   "metadata": {},
   "source": [
    "https://rahulshettyacademy.com/seleniumPractise/#/"
   ]
  },
  {
   "cell_type": "markdown",
   "metadata": {},
   "source": [
    "https://rahulshettyacademy.com/AutomationPractice/"
   ]
  },
  {
   "cell_type": "markdown",
   "metadata": {},
   "source": [
    "https://rahulshettyacademy.com/angularpractice/"
   ]
  },
  {
   "cell_type": "markdown",
   "metadata": {},
   "source": [
    "## Identifying static dropdowns using Select class of Selenium"
   ]
  },
  {
   "cell_type": "code",
   "execution_count": 2,
   "metadata": {},
   "outputs": [],
   "source": [
    "from selenium import webdriver\n",
    "from selenium.webdriver.support.select import Select"
   ]
  },
  {
   "cell_type": "code",
   "execution_count": 3,
   "metadata": {},
   "outputs": [],
   "source": [
    "driver = webdriver.Chrome(executable_path='F:\\Learning\\Programming\\Automation Testing\\drivers\\chromedriver.exe')\n",
    "driver.get('https://rahulshettyacademy.com/angularpractice/')"
   ]
  },
  {
   "cell_type": "code",
   "execution_count": 5,
   "metadata": {},
   "outputs": [],
   "source": [
    "# select class provide the methods to handle the options in dropdown\n",
    "dropdown = Select(driver.find_element_by_id('exampleFormControlSelect1'))\n",
    "dropdown.select_by_visible_text('Female')\n",
    "#dropdown.select_by_value()"
   ]
  },
  {
   "cell_type": "code",
   "execution_count": 6,
   "metadata": {},
   "outputs": [],
   "source": [
    "dropdown.select_by_index(0)"
   ]
  },
  {
   "source": [
    "## Example in identifying Labels with the CSS Parent Child Tag mechanism"
   ],
   "cell_type": "markdown",
   "metadata": {}
  },
  {
   "cell_type": "code",
   "execution_count": null,
   "metadata": {},
   "outputs": [],
   "source": [
    "from selenium import webdriver"
   ]
  },
  {
   "cell_type": "code",
   "execution_count": null,
   "metadata": {},
   "outputs": [],
   "source": [
    "driver = webdriver.Chrome(executable_path='F:\\Learning\\Programming\\Automation Testing\\drivers\\chromedriver.exe')"
   ]
  },
  {
   "cell_type": "code",
   "execution_count": 7,
   "metadata": {},
   "outputs": [],
   "source": [
    "driver.get('https://login.salesforce.com/')"
   ]
  },
  {
   "cell_type": "code",
   "execution_count": 9,
   "metadata": {},
   "outputs": [
    {
     "output_type": "execute_result",
     "data": {
      "text/plain": [
       "'Password'"
      ]
     },
     "metadata": {},
     "execution_count": 9
    }
   ],
   "source": [
    "driver.find_element_by_css_selector(\"form[name='login'] label:nth-child(3)\").text"
   ]
  },
  {
   "source": [
    "## Introducing Validation assertions and running tests in different browsers"
   ],
   "cell_type": "markdown",
   "metadata": {}
  },
  {
   "cell_type": "code",
   "execution_count": 13,
   "metadata": {},
   "outputs": [
    {
     "output_type": "error",
     "ename": "AssertionError",
     "evalue": "",
     "traceback": [
      "\u001b[1;31m---------------------------------------------------------------------------\u001b[0m",
      "\u001b[1;31mAssertionError\u001b[0m                            Traceback (most recent call last)",
      "\u001b[1;32m<ipython-input-13-f47a1cddecd2>\u001b[0m in \u001b[0;36m<module>\u001b[1;34m\u001b[0m\n\u001b[1;32m----> 1\u001b[1;33m \u001b[1;32massert\u001b[0m \u001b[1;33m(\u001b[0m\u001b[1;36m2\u001b[0m\u001b[1;33m==\u001b[0m\u001b[1;36m3\u001b[0m\u001b[1;33m)\u001b[0m\u001b[1;33m\u001b[0m\u001b[1;33m\u001b[0m\u001b[0m\n\u001b[0m",
      "\u001b[1;31mAssertionError\u001b[0m: "
     ]
    }
   ],
   "source": [
    "assert (2==3)"
   ]
  },
  {
   "cell_type": "code",
   "execution_count": 94,
   "metadata": {},
   "outputs": [],
   "source": [
    "driver = webdriver.Chrome(executable_path='F:\\Learning\\Programming\\Automation Testing\\drivers\\chromedriver.exe')"
   ]
  },
  {
   "cell_type": "code",
   "execution_count": null,
   "metadata": {},
   "outputs": [],
   "source": [
    "driver.get('https://rahulshettyacademy.com/angularpractice/')"
   ]
  },
  {
   "cell_type": "code",
   "execution_count": 17,
   "metadata": {},
   "outputs": [],
   "source": [
    "driver.find_element_by_xpath(\"//input[@type='submit']\").click()"
   ]
  },
  {
   "cell_type": "code",
   "execution_count": 18,
   "metadata": {},
   "outputs": [],
   "source": [
    "message = driver.find_element_by_class_name('alert-success').text"
   ]
  },
  {
   "cell_type": "code",
   "execution_count": 19,
   "metadata": {},
   "outputs": [],
   "source": [
    "assert \"success\" in message"
   ]
  },
  {
   "cell_type": "code",
   "execution_count": 20,
   "metadata": {},
   "outputs": [],
   "source": [
    "driver = webdriver.Firefox(executable_path='F:\\Learning\\Programming\\Automation Testing\\drivers\\geckodriver.exe')\n",
    "driver.get('https://rahulshettyacademy.com/angularpractice/')\n",
    "driver.find_element_by_xpath(\"//input[@type='submit']\").click()\n",
    "message = driver.find_element_by_class_name('alert-success').text\n"
   ]
  },
  {
   "source": [
    "## Handling AutoSuggestive Dynamic dropdowns using Selenium Webdriver"
   ],
   "cell_type": "markdown",
   "metadata": {}
  },
  {
   "cell_type": "code",
   "execution_count": 24,
   "metadata": {},
   "outputs": [],
   "source": [
    "from selenium import webdriver\n",
    "from selenium.webdriver.support.select import Select\n",
    "import time"
   ]
  },
  {
   "cell_type": "code",
   "execution_count": 21,
   "metadata": {},
   "outputs": [],
   "source": [
    "driver = webdriver.Chrome(executable_path='F:\\Learning\\Programming\\Automation Testing\\drivers\\chromedriver.exe')\n",
    "driver.get('https://rahulshettyacademy.com/dropdownsPractise/')\n"
   ]
  },
  {
   "cell_type": "code",
   "execution_count": 46,
   "metadata": {},
   "outputs": [],
   "source": [
    "driver.find_element_by_id('autosuggest').clear()"
   ]
  },
  {
   "cell_type": "code",
   "execution_count": 47,
   "metadata": {},
   "outputs": [],
   "source": [
    "driver.find_element_by_id('autosuggest').send_keys('ind')\n",
    "time.sleep(2)\n",
    "countries = driver.find_elements_by_css_selector(\"li[class='ui-menu-item'] a\")\n"
   ]
  },
  {
   "cell_type": "code",
   "execution_count": 48,
   "metadata": {},
   "outputs": [
    {
     "output_type": "stream",
     "name": "stdout",
     "text": [
      "3\n"
     ]
    }
   ],
   "source": [
    "print(len(countries))"
   ]
  },
  {
   "cell_type": "code",
   "execution_count": 49,
   "metadata": {},
   "outputs": [],
   "source": [
    "for country in countries:\n",
    "    if country.text == 'India':\n",
    "        country.click()\n",
    "        break"
   ]
  },
  {
   "cell_type": "code",
   "execution_count": 51,
   "metadata": {},
   "outputs": [
    {
     "output_type": "stream",
     "name": "stdout",
     "text": [
      "\n"
     ]
    }
   ],
   "source": [
    "print(driver.find_element_by_id('autosuggest').text)"
   ]
  },
  {
   "cell_type": "code",
   "execution_count": 52,
   "metadata": {},
   "outputs": [
    {
     "output_type": "execute_result",
     "data": {
      "text/plain": [
       "'India'"
      ]
     },
     "metadata": {},
     "execution_count": 52
    }
   ],
   "source": [
    "driver.find_element_by_id('autosuggest').get_attribute('value')"
   ]
  },
  {
   "cell_type": "code",
   "execution_count": 53,
   "metadata": {},
   "outputs": [
    {
     "output_type": "execute_result",
     "data": {
      "text/plain": [
       "'India'"
      ]
     },
     "metadata": {},
     "execution_count": 53
    }
   ],
   "source": [
    "driver.get('https://rahulshettyacademy.com/dropdownsPractise/')\n",
    "driver.find_element_by_id('autosuggest').send_keys('ind')\n",
    "time.sleep(2)\n",
    "countries = driver.find_elements_by_css_selector(\"li[class='ui-menu-item'] a\")\n",
    "for country in countries:\n",
    "    if country.text == 'India':\n",
    "        country.click()\n",
    "        break\n",
    "driver.find_element_by_id('autosuggest').get_attribute('value')"
   ]
  },
  {
   "source": [
    "## Get the count of options using len method and sleep method to pause"
   ],
   "cell_type": "markdown",
   "metadata": {}
  },
  {
   "cell_type": "code",
   "execution_count": 96,
   "metadata": {},
   "outputs": [],
   "source": [
    "driver.get('https://www.makemytrip.com/')\n",
    "driver.find_element_by_id(\"fromCity\").click()\n",
    "driver.find_element_by_css_selector(\"input[placeholder='From']\").send_keys('del')\n",
    "cities = driver.find_elements_by_css_selector(\"p[class*='blackText']\")\n",
    "time.sleep(3)\n",
    "\n",
    "for city in cities:\n",
    "    if city.text == 'Del Rio, United States':\n",
    "        city.click()\n",
    "        break\n",
    "\n",
    "driver.find_element_by_xpath(\"//p[text()='Delhi, India']\").click()"
   ]
  },
  {
   "source": [
    "## Handling CheckBox dynamically using Selenium Python Programming"
   ],
   "cell_type": "markdown",
   "metadata": {}
  },
  {
   "cell_type": "code",
   "execution_count": 79,
   "metadata": {},
   "outputs": [
    {
     "output_type": "stream",
     "name": "stdout",
     "text": [
      "3\n"
     ]
    },
    {
     "output_type": "error",
     "ename": "AssertionError",
     "evalue": "",
     "traceback": [
      "\u001b[1;31m---------------------------------------------------------------------------\u001b[0m",
      "\u001b[1;31mAssertionError\u001b[0m                            Traceback (most recent call last)",
      "\u001b[1;32m<ipython-input-79-13f39ffe70a5>\u001b[0m in \u001b[0;36m<module>\u001b[1;34m\u001b[0m\n\u001b[0;32m      5\u001b[0m \u001b[1;32mfor\u001b[0m \u001b[0mcheckbox\u001b[0m \u001b[1;32min\u001b[0m \u001b[0mcheckboxes\u001b[0m\u001b[1;33m:\u001b[0m\u001b[1;33m\u001b[0m\u001b[1;33m\u001b[0m\u001b[0m\n\u001b[0;32m      6\u001b[0m     \u001b[1;31m#checkbox.click()\u001b[0m\u001b[1;33m\u001b[0m\u001b[1;33m\u001b[0m\u001b[1;33m\u001b[0m\u001b[0m\n\u001b[1;32m----> 7\u001b[1;33m     \u001b[1;32massert\u001b[0m \u001b[0mcheckbox\u001b[0m\u001b[1;33m.\u001b[0m\u001b[0mis_selected\u001b[0m\u001b[1;33m(\u001b[0m\u001b[1;33m)\u001b[0m\u001b[1;33m\u001b[0m\u001b[1;33m\u001b[0m\u001b[0m\n\u001b[0m",
      "\u001b[1;31mAssertionError\u001b[0m: "
     ]
    }
   ],
   "source": [
    "driver = webdriver.Chrome(executable_path='F:\\Learning\\Programming\\Automation Testing\\drivers\\chromedriver.exe')\n",
    "driver.get('https://rahulshettyacademy.com/AutomationPractice/')\n",
    "checkboxes = driver.find_elements_by_xpath(\"//input[@type='checkbox']\")\n",
    "print(len(checkboxes))\n",
    "for checkbox in checkboxes:\n",
    "    #checkbox.click()\n",
    "    assert checkbox.is_selected()"
   ]
  },
  {
   "cell_type": "code",
   "execution_count": 80,
   "metadata": {},
   "outputs": [
    {
     "output_type": "stream",
     "name": "stdout",
     "text": [
      "3\n"
     ]
    }
   ],
   "source": [
    "driver = webdriver.Chrome(executable_path='F:\\Learning\\Programming\\Automation Testing\\drivers\\chromedriver.exe')\n",
    "driver.get('https://rahulshettyacademy.com/AutomationPractice/')\n",
    "checkboxes = driver.find_elements_by_xpath(\"//input[@type='checkbox']\")\n",
    "print(len(checkboxes))\n",
    "for checkbox in checkboxes:\n",
    "    checkbox.click()\n",
    "    assert checkbox.is_selected()"
   ]
  },
  {
   "source": [
    "## Understand radiobutton Automation methods with examples"
   ],
   "cell_type": "markdown",
   "metadata": {}
  },
  {
   "cell_type": "code",
   "execution_count": 81,
   "metadata": {},
   "outputs": [
    {
     "output_type": "stream",
     "name": "stdout",
     "text": [
      "3\n",
      "option1\n",
      "option2\n",
      "option3\n"
     ]
    }
   ],
   "source": [
    "driver = webdriver.Chrome(executable_path='F:\\Learning\\Programming\\Automation Testing\\drivers\\chromedriver.exe')\n",
    "driver.get('https://rahulshettyacademy.com/AutomationPractice/')\n",
    "checkboxes = driver.find_elements_by_xpath(\"//input[@type='checkbox']\")\n",
    "print(len(checkboxes))\n",
    "for checkbox in checkboxes:\n",
    "    print(checkbox.get_attribute('value'))\n",
    "    checkbox.click()\n",
    "    assert checkbox.is_selected()"
   ]
  },
  {
   "cell_type": "code",
   "execution_count": 84,
   "metadata": {},
   "outputs": [
    {
     "output_type": "stream",
     "name": "stdout",
     "text": [
      "3\n"
     ]
    }
   ],
   "source": [
    "driver = webdriver.Chrome(executable_path='F:\\Learning\\Programming\\Automation Testing\\drivers\\chromedriver.exe')\n",
    "driver.get('https://rahulshettyacademy.com/AutomationPractice/')\n",
    "checkboxes = driver.find_elements_by_xpath(\"//input[@type='checkbox']\")\n",
    "print(len(checkboxes))\n",
    "for checkbox in checkboxes:\n",
    "    if checkbox.get_attribute('value') == 'option2':\n",
    "        checkbox.click()\n",
    "        assert checkbox.is_selected()"
   ]
  },
  {
   "cell_type": "code",
   "execution_count": 86,
   "metadata": {},
   "outputs": [],
   "source": [
    "driver = webdriver.Chrome(executable_path='F:\\Learning\\Programming\\Automation Testing\\drivers\\chromedriver.exe')\n",
    "driver.get('https://rahulshettyacademy.com/AutomationPractice/')\n",
    "radiobuttons = driver.find_elements_by_name('radioButton')\n",
    "radiobuttons[2].click()\n",
    "assert radiobuttons[2].is_selected()"
   ]
  },
  {
   "source": [
    "## Handling Java / JavaScript Alert popups using Selenium"
   ],
   "cell_type": "markdown",
   "metadata": {}
  },
  {
   "cell_type": "code",
   "execution_count": 88,
   "metadata": {},
   "outputs": [
    {
     "output_type": "stream",
     "name": "stdout",
     "text": [
      "Hello Vivek, share this practice page and share your knowledge\n"
     ]
    }
   ],
   "source": [
    "driver = webdriver.Chrome(executable_path='F:\\Learning\\Programming\\Automation Testing\\drivers\\chromedriver.exe')\n",
    "driver.get('https://rahulshettyacademy.com/AutomationPractice/')\n",
    "\n",
    "driver.find_element_by_css_selector('#name').send_keys('Vivek')\n",
    "driver.find_element_by_id('alertbtn').click()\n",
    "alert = driver.switch_to.alert\n",
    "print(alert.text)\n",
    "alert.accept()"
   ]
  },
  {
   "cell_type": "code",
   "execution_count": null,
   "metadata": {},
   "outputs": [],
   "source": [
    "driver = webdriver.Chrome(executable_path='F:\\Learning\\Programming\\Automation Testing\\drivers\\chromedriver.exe')\n",
    "driver.get('https://rahulshettyacademy.com/AutomationPractice/')\n",
    "\n",
    "driver.find_element_by_css_selector('#name').send_keys('Vivek')\n",
    "driver.find_element_by_id('alertbtn').click()\n",
    "alert = driver.switch_to.alert\n",
    "print(alert.text)\n",
    "alert.accept()"
   ]
  },
  {
   "cell_type": "code",
   "execution_count": 91,
   "metadata": {},
   "outputs": [],
   "source": [
    "driver = webdriver.Chrome(executable_path='F:\\Learning\\Programming\\Automation Testing\\drivers\\chromedriver.exe')\n",
    "driver.get('https://rahulshettyacademy.com/AutomationPractice/')\n",
    "validateText = 'Option3'\n",
    "\n",
    "driver.find_element_by_css_selector('#name').send_keys(validateText)\n",
    "driver.find_element_by_id('alertbtn').click()\n",
    "alert = driver.switch_to.alert\n",
    "alertText = alert.text\n",
    "assert validateText in alertText\n",
    "alert.accept()"
   ]
  },
  {
   "cell_type": "code",
   "execution_count": 92,
   "metadata": {},
   "outputs": [],
   "source": [
    "driver = webdriver.Chrome(executable_path='F:\\Learning\\Programming\\Automation Testing\\drivers\\chromedriver.exe')\n",
    "driver.get('https://rahulshettyacademy.com/AutomationPractice/')\n",
    "validateText = 'Option3'\n",
    "\n",
    "driver.find_element_by_css_selector('#name').send_keys(validateText)\n",
    "driver.find_element_by_id('alertbtn').click()\n",
    "alert = driver.switch_to.alert\n",
    "alertText = alert.text\n",
    "assert validateText in alertText\n",
    "alert.dismiss()"
   ]
  },
  {
   "cell_type": "code",
   "execution_count": null,
   "metadata": {},
   "outputs": [],
   "source": []
  }
 ],
 "metadata": {
  "kernelspec": {
   "display_name": "Python 3",
   "language": "python",
   "name": "python3"
  },
  "language_info": {
   "codemirror_mode": {
    "name": "ipython",
    "version": 3
   },
   "file_extension": ".py",
   "mimetype": "text/x-python",
   "name": "python",
   "nbconvert_exporter": "python",
   "pygments_lexer": "ipython3",
   "version": "3.7.6-final"
  }
 },
 "nbformat": 4,
 "nbformat_minor": 4
}