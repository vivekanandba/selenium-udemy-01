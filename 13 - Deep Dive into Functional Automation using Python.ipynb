{
 "metadata": {
  "language_info": {
   "codemirror_mode": {
    "name": "ipython",
    "version": 3
   },
   "file_extension": ".py",
   "mimetype": "text/x-python",
   "name": "python",
   "nbconvert_exporter": "python",
   "pygments_lexer": "ipython3",
   "version": "3.7.6-final"
  },
  "orig_nbformat": 2,
  "kernelspec": {
   "name": "python3",
   "display_name": "Python 3"
  }
 },
 "nbformat": 4,
 "nbformat_minor": 2,
 "cells": [
  {
   "source": [
    "## When to use Explicit Wait and Implicit wait in your Tests"
   ],
   "cell_type": "markdown",
   "metadata": {}
  },
  {
   "source": [
    "### Explicit wait\n",
    "\n",
    "- load issues in specific areas\n",
    "- load testing - benchmark that the clients are requesting\n",
    "\n",
    "### Implicit wait\n",
    "\n",
    "- server dependency\n",
    "- offshore and onsite\n",
    "- banking and other problems\n",
    "- performance testing\n",
    "\n"
   ],
   "cell_type": "markdown",
   "metadata": {}
  },
  {
   "source": [
    "## Functional Automation example on Greenkart Application"
   ],
   "cell_type": "markdown",
   "metadata": {}
  },
  {
   "source": [
    "### Validate whether products selected in Page 1 are showing in Page 2 check page\n",
    "### Verify if Price decreases on Discount\n",
    "### Verify if sum of products in checkout page matches with Total Amount"
   ],
   "cell_type": "markdown",
   "metadata": {}
  },
  {
   "cell_type": "code",
   "execution_count": 21,
   "metadata": {},
   "outputs": [
    {
     "output_type": "stream",
     "name": "stdout",
     "text": [
      "Code applied ..!\n",
      "['Cucumber', 'Raspberry', 'Strawberry']\n"
     ]
    }
   ],
   "source": [
    "from selenium import webdriver\n",
    "from selenium.webdriver.support.ui import WebDriverWait\n",
    "from selenium.webdriver.support import expected_conditions\n",
    "from selenium.webdriver.common.by import By\n",
    "import time\n",
    "\n",
    "driver = webdriver.Chrome(executable_path=\"F:\\Learning\\Programming\\Automation Testing\\drivers\\chromedriver.exe\")\n",
    "#driver.implicitly_wait(5)\n",
    "driver.get('https://rahulshettyacademy.com/seleniumPractise/#/')\n",
    "driver.find_element_by_css_selector('input.search-keyword').send_keys('ber')\n",
    "time.sleep(4)\n",
    "count = len(driver.find_elements_by_xpath('//div[@class=\"products\"]/div'))\n",
    "assert count==3\n",
    "\n",
    "buttons = driver.find_elements_by_xpath('//div[@class=\"product-action\"]/button')\n",
    "\n",
    "veg_list_pg_1 = []\n",
    "\n",
    "for button in buttons:\n",
    "    veg_list_pg_1.append(button.find_element_by_xpath(\"parent::div/parent::div/h4\").text.split(' -')[0])\n",
    "    button.click()\n",
    "\n",
    "driver.find_element_by_css_selector('img[alt=\"Cart\"]').click()\n",
    "driver.find_element_by_xpath(\"//button[text()='PROCEED TO CHECKOUT']\").click()\n",
    "wait = WebDriverWait(driver, 10)\n",
    "wait.until(expected_conditions.presence_of_element_located((By.CLASS_NAME, \"promoCode\")))\n",
    "driver.find_element_by_class_name('promoCode').send_keys('rahulshettyacademy')\n",
    "driver.find_element_by_css_selector('.promoBtn').click()\n",
    "\n",
    "wait.until(expected_conditions.presence_of_element_located((By.CSS_SELECTOR, \"span.promoInfo\")))\n",
    "print(driver.find_element_by_css_selector('span.promoInfo').text)\n",
    "driver.quit()\n",
    "print(veg_list_pg_1)"
   ]
  },
  {
   "cell_type": "code",
   "execution_count": 23,
   "metadata": {},
   "outputs": [
    {
     "output_type": "stream",
     "name": "stdout",
     "text": [
      "Code applied ..!\n",
      "['Cucumber', 'Raspberry', 'Strawberry']\n",
      "['Cucumber', 'Raspberry', 'Strawberry']\n"
     ]
    }
   ],
   "source": [
    "from selenium import webdriver\n",
    "from selenium.webdriver.support.ui import WebDriverWait\n",
    "from selenium.webdriver.support import expected_conditions\n",
    "from selenium.webdriver.common.by import By\n",
    "import time\n",
    "\n",
    "driver = webdriver.Chrome(executable_path=\"F:\\Learning\\Programming\\Automation Testing\\drivers\\chromedriver.exe\")\n",
    "#driver.implicitly_wait(5)\n",
    "driver.get('https://rahulshettyacademy.com/seleniumPractise/#/')\n",
    "driver.find_element_by_css_selector('input.search-keyword').send_keys('ber')\n",
    "time.sleep(4)\n",
    "count = len(driver.find_elements_by_xpath('//div[@class=\"products\"]/div'))\n",
    "assert count==3\n",
    "\n",
    "buttons = driver.find_elements_by_xpath('//div[@class=\"product-action\"]/button')\n",
    "\n",
    "veg_list_pg_1 = []\n",
    "\n",
    "for button in buttons:\n",
    "    veg_list_pg_1.append(button.find_element_by_xpath(\"parent::div/parent::div/h4\").text.split(' -')[0])\n",
    "    button.click()\n",
    "\n",
    "driver.find_element_by_css_selector('img[alt=\"Cart\"]').click()\n",
    "driver.find_element_by_xpath(\"//button[text()='PROCEED TO CHECKOUT']\").click()\n",
    "wait = WebDriverWait(driver, 10)\n",
    "wait.until(expected_conditions.presence_of_element_located((By.CLASS_NAME, \"promoCode\")))\n",
    "\n",
    "veg_list_pg_2 = []\n",
    "\n",
    "veggies = driver.find_elements_by_css_selector('p.product-name')\n",
    "\n",
    "for veggie in veggies:\n",
    "    veg_list_pg_2.append(veggie.text.split(' -')[0])\n",
    "\n",
    "driver.find_element_by_class_name('promoCode').send_keys('rahulshettyacademy')\n",
    "driver.find_element_by_css_selector('.promoBtn').click()\n",
    "\n",
    "wait.until(expected_conditions.presence_of_element_located((By.CSS_SELECTOR, \"span.promoInfo\")))\n",
    "print(driver.find_element_by_css_selector('span.promoInfo').text)\n",
    "driver.quit()\n",
    "print(veg_list_pg_1)\n",
    "print(veg_list_pg_2)"
   ]
  },
  {
   "cell_type": "code",
   "execution_count": 24,
   "metadata": {},
   "outputs": [
    {
     "output_type": "stream",
     "name": "stdout",
     "text": [
      "Code applied ..!\n"
     ]
    }
   ],
   "source": [
    "from selenium import webdriver\n",
    "from selenium.webdriver.support.ui import WebDriverWait\n",
    "from selenium.webdriver.support import expected_conditions\n",
    "from selenium.webdriver.common.by import By\n",
    "import time\n",
    "\n",
    "driver = webdriver.Chrome(executable_path=\"F:\\Learning\\Programming\\Automation Testing\\drivers\\chromedriver.exe\")\n",
    "#driver.implicitly_wait(5)\n",
    "driver.get('https://rahulshettyacademy.com/seleniumPractise/#/')\n",
    "driver.find_element_by_css_selector('input.search-keyword').send_keys('ber')\n",
    "time.sleep(4)\n",
    "count = len(driver.find_elements_by_xpath('//div[@class=\"products\"]/div'))\n",
    "assert count==3\n",
    "\n",
    "buttons = driver.find_elements_by_xpath('//div[@class=\"product-action\"]/button')\n",
    "\n",
    "veg_list_pg1 = []\n",
    "\n",
    "for button in buttons:\n",
    "    veg_list_pg1.append(button.find_element_by_xpath(\"parent::div/parent::div/h4\").text.split(' -')[0])\n",
    "    button.click()\n",
    "\n",
    "driver.find_element_by_css_selector('img[alt=\"Cart\"]').click()\n",
    "driver.find_element_by_xpath(\"//button[text()='PROCEED TO CHECKOUT']\").click()\n",
    "wait = WebDriverWait(driver, 10)\n",
    "wait.until(expected_conditions.presence_of_element_located((By.CLASS_NAME, \"promoCode\")))\n",
    "\n",
    "veg_list_pg2 = []\n",
    "\n",
    "veggies = driver.find_elements_by_css_selector('p.product-name')\n",
    "\n",
    "for veggie in veggies:\n",
    "    veg_list_pg2.append(veggie.text.split(' -')[0])\n",
    "\n",
    "driver.find_element_by_class_name('promoCode').send_keys('rahulshettyacademy')\n",
    "driver.find_element_by_css_selector('.promoBtn').click()\n",
    "\n",
    "wait.until(expected_conditions.presence_of_element_located((By.CSS_SELECTOR, \"span.promoInfo\")))\n",
    "print(driver.find_element_by_css_selector('span.promoInfo').text)\n",
    "driver.quit()\n",
    "assert veg_list_pg1 == veg_list_pg2"
   ]
  },
  {
   "source": [],
   "cell_type": "markdown",
   "metadata": {}
  },
  {
   "cell_type": "code",
   "execution_count": 8,
   "metadata": {},
   "outputs": [],
   "source": [
    "x = \"vegetable - 1 kg\""
   ]
  },
  {
   "cell_type": "code",
   "execution_count": 16,
   "metadata": {},
   "outputs": [
    {
     "output_type": "execute_result",
     "data": {
      "text/plain": [
       "'vegetable'"
      ]
     },
     "metadata": {},
     "execution_count": 16
    }
   ],
   "source": [
    "x.split(' -')[0]"
   ]
  },
  {
   "source": [
    "## Build a logic to Automate HTML Web Tables using Selenium Python"
   ],
   "cell_type": "markdown",
   "metadata": {}
  },
  {
   "cell_type": "code",
   "execution_count": 28,
   "metadata": {},
   "outputs": [
    {
     "output_type": "stream",
     "name": "stdout",
     "text": [
      "Code applied ..!\n"
     ]
    }
   ],
   "source": [
    "from selenium import webdriver\n",
    "from selenium.webdriver.support.ui import WebDriverWait\n",
    "from selenium.webdriver.support import expected_conditions\n",
    "from selenium.webdriver.common.by import By\n",
    "import time\n",
    "\n",
    "driver = webdriver.Chrome(executable_path=\"F:\\Learning\\Programming\\Automation Testing\\drivers\\chromedriver.exe\")\n",
    "#driver.implicitly_wait(5)\n",
    "driver.get('https://rahulshettyacademy.com/seleniumPractise/#/')\n",
    "driver.find_element_by_css_selector('input.search-keyword').send_keys('ber')\n",
    "time.sleep(4)\n",
    "count = len(driver.find_elements_by_xpath('//div[@class=\"products\"]/div'))\n",
    "assert count==3\n",
    "\n",
    "buttons = driver.find_elements_by_xpath('//div[@class=\"product-action\"]/button')\n",
    "\n",
    "veg_list_pg1 = []\n",
    "\n",
    "for button in buttons:\n",
    "    veg_list_pg1.append(button.find_element_by_xpath(\"parent::div/parent::div/h4\").text.split(' -')[0])\n",
    "    button.click()\n",
    "\n",
    "driver.find_element_by_css_selector('img[alt=\"Cart\"]').click()\n",
    "driver.find_element_by_xpath(\"//button[text()='PROCEED TO CHECKOUT']\").click()\n",
    "wait = WebDriverWait(driver, 10)\n",
    "wait.until(expected_conditions.presence_of_element_located((By.CLASS_NAME, \"promoCode\")))\n",
    "\n",
    "veg_list_pg2 = []\n",
    "\n",
    "veggies = driver.find_elements_by_css_selector('p.product-name')\n",
    "\n",
    "for veggie in veggies:\n",
    "    veg_list_pg2.append(veggie.text.split(' -')[0])\n",
    "pre_disc_amt = float(driver.find_element_by_css_selector('span.discountAmt').text)\n",
    "driver.find_element_by_class_name('promoCode').send_keys('rahulshettyacademy')\n",
    "driver.find_element_by_css_selector('.promoBtn').click()\n",
    "\n",
    "wait.until(expected_conditions.presence_of_element_located((By.CSS_SELECTOR, \"span.promoInfo\")))\n",
    "print(driver.find_element_by_css_selector('span.promoInfo').text)\n",
    "post_disc_amt = float(driver.find_element_by_css_selector('span.discountAmt').text)\n",
    "\n",
    "assert veg_list_pg1 == veg_list_pg2\n",
    "assert post_disc_amt < pre_disc_amt\n",
    "driver.quit()"
   ]
  },
  {
   "cell_type": "code",
   "execution_count": 32,
   "metadata": {},
   "outputs": [
    {
     "output_type": "stream",
     "name": "stdout",
     "text": [
      "Code applied ..!\n"
     ]
    }
   ],
   "source": [
    "from selenium import webdriver\n",
    "from selenium.webdriver.support.ui import WebDriverWait\n",
    "from selenium.webdriver.support import expected_conditions\n",
    "from selenium.webdriver.common.by import By\n",
    "import time\n",
    "\n",
    "driver = webdriver.Chrome(executable_path=\"F:\\Learning\\Programming\\Automation Testing\\drivers\\chromedriver.exe\")\n",
    "#driver.implicitly_wait(5)\n",
    "driver.get('https://rahulshettyacademy.com/seleniumPractise/#/')\n",
    "driver.find_element_by_css_selector('input.search-keyword').send_keys('ber')\n",
    "time.sleep(4)\n",
    "count = len(driver.find_elements_by_xpath('//div[@class=\"products\"]/div'))\n",
    "assert count==3\n",
    "\n",
    "buttons = driver.find_elements_by_xpath('//div[@class=\"product-action\"]/button')\n",
    "\n",
    "veg_list_pg1 = []\n",
    "\n",
    "for button in buttons:\n",
    "    veg_list_pg1.append(button.find_element_by_xpath(\"parent::div/parent::div/h4\").text.split(' -')[0])\n",
    "    button.click()\n",
    "\n",
    "driver.find_element_by_css_selector('img[alt=\"Cart\"]').click()\n",
    "driver.find_element_by_xpath(\"//button[text()='PROCEED TO CHECKOUT']\").click()\n",
    "wait = WebDriverWait(driver, 10)\n",
    "wait.until(expected_conditions.presence_of_element_located((By.CLASS_NAME, \"promoCode\")))\n",
    "\n",
    "veg_list_pg2 = []\n",
    "\n",
    "veggies = driver.find_elements_by_css_selector('p.product-name')\n",
    "\n",
    "for veggie in veggies:\n",
    "    veg_list_pg2.append(veggie.text.split(' -')[0])\n",
    "pre_disc_amt = float(driver.find_element_by_css_selector('span.discountAmt').text)\n",
    "driver.find_element_by_class_name('promoCode').send_keys('rahulshettyacademy')\n",
    "driver.find_element_by_css_selector('.promoBtn').click()\n",
    "\n",
    "wait.until(expected_conditions.presence_of_element_located((By.CSS_SELECTOR, \"span.promoInfo\")))\n",
    "\n",
    "amts = driver.find_elements_by_xpath(\"//tr/td[5]/p\")\n",
    "\n",
    "total_amt = 0\n",
    "\n",
    "for amt in amts:\n",
    "    total_amt+=float(amt.text)\n",
    "\n",
    "pg_total_amt = float(driver.find_element_by_css_selector('span.totAmt').text)\n",
    "\n",
    "print(driver.find_element_by_css_selector('span.promoInfo').text)\n",
    "post_disc_amt = float(driver.find_element_by_css_selector('span.discountAmt').text)\n",
    "\n",
    "\n",
    "\n",
    "assert veg_list_pg1 == veg_list_pg2\n",
    "assert post_disc_amt < pre_disc_amt\n",
    "assert total_amt == pg_total_amt\n",
    "\n",
    "driver.quit()"
   ]
  },
  {
   "cell_type": "code",
   "execution_count": null,
   "metadata": {},
   "outputs": [],
   "source": []
  }
 ]
}